{
  "nbformat": 4,
  "nbformat_minor": 0,
  "metadata": {
    "colab": {
      "provenance": [],
      "authorship_tag": "ABX9TyMH5HdEPj1XLr3s3/NgSCY+",
      "include_colab_link": true
    },
    "kernelspec": {
      "name": "python3",
      "display_name": "Python 3"
    },
    "language_info": {
      "name": "python"
    }
  },
  "cells": [
    {
      "cell_type": "markdown",
      "metadata": {
        "id": "view-in-github",
        "colab_type": "text"
      },
      "source": [
        "<a href=\"https://colab.research.google.com/github/rroszczyk/Python/blob/master/drzewa/przyklad_biblioteki_operacji_na_drzewach.ipynb\" target=\"_parent\"><img src=\"https://colab.research.google.com/assets/colab-badge.svg\" alt=\"Open In Colab\"/></a>"
      ]
    },
    {
      "cell_type": "code",
      "execution_count": 1,
      "metadata": {
        "colab": {
          "base_uri": "https://localhost:8080/"
        },
        "id": "el84hIwxDRtF",
        "outputId": "b61b1d13-ded2-45cb-83a2-ff48f59b014b"
      },
      "outputs": [
        {
          "output_type": "stream",
          "name": "stdout",
          "text": [
            "Looking in indexes: https://pypi.org/simple, https://us-python.pkg.dev/colab-wheels/public/simple/\n",
            "Collecting treelib\n",
            "  Downloading treelib-1.6.4-py3-none-any.whl (18 kB)\n",
            "Requirement already satisfied: six in /usr/local/lib/python3.9/dist-packages (from treelib) (1.16.0)\n",
            "Installing collected packages: treelib\n",
            "Successfully installed treelib-1.6.4\n"
          ]
        }
      ],
      "source": [
        "!pip install treelib"
      ]
    },
    {
      "cell_type": "code",
      "source": [
        "from treelib import Node, Tree"
      ],
      "metadata": {
        "id": "oHJtFTvaDdb_"
      },
      "execution_count": 2,
      "outputs": []
    },
    {
      "cell_type": "code",
      "source": [
        "drzewo = Tree()\n",
        "\n",
        "drzewo.create_node(tag = \"Drzewa\", identifier=1)\n",
        "drzewo.create_node(tag = \"Liściaste\", identifier=11, parent=1)\n",
        "drzewo.create_node(tag = \"Iglaste\", identifier=12, parent=1)\n",
        "drzewo.create_node(tag = \"Krzewy\", identifier=13, parent=1)\n",
        "\n",
        "drzewo.create_node(tag = \"Brzoza\", identifier=111, parent=11)\n",
        "drzewo.create_node(tag = \"Dąb\", identifier=112, parent=11)\n",
        "drzewo.create_node(tag = \"Grab\", identifier=113, parent=11)\n",
        "drzewo.create_node(tag = \"Lipa\", identifier=114, parent=11)\n",
        "\n",
        "drzewo.create_node(tag = \"Sosna\", identifier=121, parent=12)\n",
        "drzewo.create_node(tag = \"Świerk\", identifier=122, parent=12)\n",
        "drzewo.create_node(tag = \"Jodła\", identifier=123, parent=12)\n",
        "\n",
        "drzewo.create_node(tag = \"Kalina\", identifier=131, parent=13)\n",
        "drzewo.create_node(tag = \"Ligustr\", identifier=132, parent=13)\n",
        "drzewo.create_node(tag = \"Bez\", identifier=133, parent=13)\n",
        "\n",
        "drzewo.show()"
      ],
      "metadata": {
        "colab": {
          "base_uri": "https://localhost:8080/"
        },
        "id": "lRJD9-g1DhD5",
        "outputId": "cb6c37ac-97e9-4277-a87c-9ee1163dff03"
      },
      "execution_count": 4,
      "outputs": [
        {
          "output_type": "stream",
          "name": "stdout",
          "text": [
            "Drzewa\n",
            "├── Iglaste\n",
            "│   ├── Jodła\n",
            "│   ├── Sosna\n",
            "│   └── Świerk\n",
            "├── Krzewy\n",
            "│   ├── Bez\n",
            "│   ├── Kalina\n",
            "│   └── Ligustr\n",
            "└── Liściaste\n",
            "    ├── Brzoza\n",
            "    ├── Dąb\n",
            "    ├── Grab\n",
            "    └── Lipa\n",
            "\n"
          ]
        }
      ]
    },
    {
      "cell_type": "code",
      "source": [
        "drzewo.parent(12)"
      ],
      "metadata": {
        "colab": {
          "base_uri": "https://localhost:8080/"
        },
        "id": "zpkGeDhVEelq",
        "outputId": "6cfba03c-dd2e-4369-9364-b243cab37044"
      },
      "execution_count": 5,
      "outputs": [
        {
          "output_type": "execute_result",
          "data": {
            "text/plain": [
              "Node(tag=Drzewa, identifier=1, data=None)"
            ]
          },
          "metadata": {},
          "execution_count": 5
        }
      ]
    },
    {
      "cell_type": "code",
      "source": [
        "drzewo.children(12)"
      ],
      "metadata": {
        "colab": {
          "base_uri": "https://localhost:8080/"
        },
        "id": "oa5TjBjCEmN8",
        "outputId": "559ddb6c-e6ba-489b-ada2-05ee33b3ad48"
      },
      "execution_count": 6,
      "outputs": [
        {
          "output_type": "execute_result",
          "data": {
            "text/plain": [
              "[Node(tag=Sosna, identifier=121, data=None),\n",
              " Node(tag=Świerk, identifier=122, data=None),\n",
              " Node(tag=Jodła, identifier=123, data=None)]"
            ]
          },
          "metadata": {},
          "execution_count": 6
        }
      ]
    },
    {
      "cell_type": "code",
      "source": [
        "drzewo.get_node(12)"
      ],
      "metadata": {
        "colab": {
          "base_uri": "https://localhost:8080/"
        },
        "id": "qAKo_pfrEqy4",
        "outputId": "4b5aaf8a-426b-4628-d318-1f2e0a9d7c3e"
      },
      "execution_count": 7,
      "outputs": [
        {
          "output_type": "execute_result",
          "data": {
            "text/plain": [
              "Node(tag=Iglaste, identifier=12, data=None)"
            ]
          },
          "metadata": {},
          "execution_count": 7
        }
      ]
    },
    {
      "cell_type": "code",
      "source": [
        "drzewo.all_nodes()"
      ],
      "metadata": {
        "colab": {
          "base_uri": "https://localhost:8080/"
        },
        "id": "6_wDqz9-EwE3",
        "outputId": "4d3a8463-7555-495e-d9aa-f5a3d364d9b5"
      },
      "execution_count": 8,
      "outputs": [
        {
          "output_type": "execute_result",
          "data": {
            "text/plain": [
              "[Node(tag=Drzewa, identifier=1, data=None),\n",
              " Node(tag=Liściaste, identifier=11, data=None),\n",
              " Node(tag=Iglaste, identifier=12, data=None),\n",
              " Node(tag=Krzewy, identifier=13, data=None),\n",
              " Node(tag=Brzoza, identifier=111, data=None),\n",
              " Node(tag=Dąb, identifier=112, data=None),\n",
              " Node(tag=Grab, identifier=113, data=None),\n",
              " Node(tag=Lipa, identifier=114, data=None),\n",
              " Node(tag=Sosna, identifier=121, data=None),\n",
              " Node(tag=Świerk, identifier=122, data=None),\n",
              " Node(tag=Jodła, identifier=123, data=None),\n",
              " Node(tag=Kalina, identifier=131, data=None),\n",
              " Node(tag=Ligustr, identifier=132, data=None),\n",
              " Node(tag=Bez, identifier=133, data=None)]"
            ]
          },
          "metadata": {},
          "execution_count": 8
        }
      ]
    },
    {
      "cell_type": "code",
      "source": [
        "print(drzewo.to_dict())"
      ],
      "metadata": {
        "colab": {
          "base_uri": "https://localhost:8080/"
        },
        "id": "Fze8ji5BEzy1",
        "outputId": "5856413c-1690-44b7-ecef-833e7d501f14"
      },
      "execution_count": 10,
      "outputs": [
        {
          "output_type": "stream",
          "name": "stdout",
          "text": [
            "{'Drzewa': {'children': [{'Iglaste': {'children': ['Jodła', 'Sosna', 'Świerk']}}, {'Krzewy': {'children': ['Bez', 'Kalina', 'Ligustr']}}, {'Liściaste': {'children': ['Brzoza', 'Dąb', 'Grab', 'Lipa']}}]}}\n"
          ]
        }
      ]
    },
    {
      "cell_type": "code",
      "source": [
        "print(drzewo.to_json())"
      ],
      "metadata": {
        "colab": {
          "base_uri": "https://localhost:8080/"
        },
        "id": "Kd8L-UBbE5Zc",
        "outputId": "733c04ea-804c-4c09-ee54-491c79291b7c"
      },
      "execution_count": 11,
      "outputs": [
        {
          "output_type": "stream",
          "name": "stdout",
          "text": [
            "{\"Drzewa\": {\"children\": [{\"Iglaste\": {\"children\": [\"Jod\\u0142a\", \"Sosna\", \"\\u015awierk\"]}}, {\"Krzewy\": {\"children\": [\"Bez\", \"Kalina\", \"Ligustr\"]}}, {\"Li\\u015bciaste\": {\"children\": [\"Brzoza\", \"D\\u0105b\", \"Grab\", \"Lipa\"]}}]}}\n"
          ]
        }
      ]
    }
  ]
}