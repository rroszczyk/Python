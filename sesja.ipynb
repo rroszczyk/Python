{
  "nbformat": 4,
  "nbformat_minor": 0,
  "metadata": {
    "colab": {
      "provenance": [],
      "authorship_tag": "ABX9TyMI7C0BOwCbtJ9xsNPZls2B",
      "include_colab_link": true
    },
    "kernelspec": {
      "name": "python3",
      "display_name": "Python 3"
    },
    "language_info": {
      "name": "python"
    }
  },
  "cells": [
    {
      "cell_type": "markdown",
      "metadata": {
        "id": "view-in-github",
        "colab_type": "text"
      },
      "source": [
        "<a href=\"https://colab.research.google.com/github/rroszczyk/Python/blob/master/sesja.ipynb\" target=\"_parent\"><img src=\"https://colab.research.google.com/assets/colab-badge.svg\" alt=\"Open In Colab\"/></a>"
      ]
    },
    {
      "cell_type": "code",
      "execution_count": null,
      "metadata": {
        "id": "5uhHNWYEisY_"
      },
      "outputs": [],
      "source": [
        "# Google\n",
        "\n",
        "import requests\n",
        "\n",
        "session = requests.Session()\n",
        "\n",
        "print(session.cookies.get_dict())\n",
        "\n",
        "print(\"-\"*80)\n",
        "\n",
        "response = session.get('https://www.google.com')\n",
        "\n",
        "for (label, value) in sorted(response.headers.items()):\n",
        "  print(f\"{label}: {value}\")\n",
        "\n",
        "print(\"-\"*80)\n",
        "\n",
        "for (label, value) in sorted(session.cookies.get_dict().items()):\n",
        "  print(f\"{label}: {value}\")"
      ]
    },
    {
      "cell_type": "code",
      "source": [
        "# Google\n",
        "\n",
        "import json\n",
        "import requests\n",
        "\n",
        "session = requests.session()\n",
        "\n",
        "response = requests.get('http://google.com', timeout=30)\n",
        "\n",
        "with open('cookies.txt', 'w', encoding='utf-8') as f:\n",
        "    json.dump(requests.utils.dict_from_cookiejar(response.cookies), f)\n",
        "\n",
        "for (label, value) in sorted(response.headers.items()):\n",
        "  print(f\"{label}: {value}\")\n",
        "\n",
        "print(\"-\"*80)\n",
        "\n",
        "for (label, value) in sorted(response.cookies.get_dict().items()):\n",
        "  print(f\"{label}: {value}\")"
      ],
      "metadata": {
        "id": "CXlSEHjek2J_"
      },
      "execution_count": null,
      "outputs": []
    },
    {
      "cell_type": "code",
      "source": [
        "# Google\n",
        "\n",
        "import json\n",
        "import requests\n",
        "\n",
        "session = requests.session()\n",
        "\n",
        "with open('cookies.txt', 'r', encoding='utf-8') as f:\n",
        "    cookies = requests.utils.cookiejar_from_dict(json.load(f))\n",
        "    session.cookies.update(cookies)\n",
        "\n",
        "for (label, value) in sorted(response.headers.items()):\n",
        "  print(f\"{label}: {value}\")\n",
        "\n",
        "print(\"-\"*80)\n",
        "\n",
        "for (label, value) in sorted(session.cookies.get_dict().items()):\n",
        "  print(f\"{label}: {value}\")"
      ],
      "metadata": {
        "id": "5yVxxbBokKqg"
      },
      "execution_count": null,
      "outputs": []
    },
    {
      "cell_type": "markdown",
      "source": [
        "## HTTPBIN"
      ],
      "metadata": {
        "id": "i8rZMKR3wB84"
      }
    },
    {
      "cell_type": "code",
      "source": [
        "import requests\n",
        "\n",
        "session = requests.Session()\n",
        "\n",
        "response = session.get(\n",
        "    'https://httpbin.org/cookies',\n",
        "    cookies={'moje-ciasteczko': 'wartosc'}\n",
        ")\n",
        "\n",
        "print(\"-\"*80)\n",
        "for (label, value) in sorted(response.headers.items()):\n",
        "  print(f\"{label}: {value}\")\n",
        "\n",
        "print(\"\")\n",
        "\n",
        "print(response.text, end=\"\")\n",
        "print(\"-\"*80)"
      ],
      "metadata": {
        "id": "svcD45C_jl7t"
      },
      "execution_count": null,
      "outputs": []
    },
    {
      "cell_type": "code",
      "source": [
        "import requests\n",
        "\n",
        "session = requests.Session()\n",
        "\n",
        "response = session.get('https://httpbin.org/cookies/set?imie=Radoslaw&nazwisko=Roszczyk', timeout=30)\n",
        "\n",
        "print(\"- 1 \" + \"-\"*76)\n",
        "for (label, value) in sorted(response.headers.items()):\n",
        "  print(f\"{label}: {value}\")\n",
        "\n",
        "print(\"\")\n",
        "\n",
        "print(response.text, end=\"\")\n",
        "print(\"-\"*80)\n",
        "\n",
        "response = session.get('https://httpbin.org/cookies', timeout=30)\n",
        "\n",
        "print(\"- 2 \" + \"-\"*76)\n",
        "for (label, value) in sorted(response.headers.items()):\n",
        "  print(f\"{label}: {value}\")\n",
        "\n",
        "print(\"\")\n",
        "\n",
        "print(response.text, end=\"\")\n",
        "print(\"-\"*80)\n",
        "\n",
        "response = session.get('https://httpbin.org/cookies/set?uczelnia=Politechnika%20Warszawska', timeout=30)\n",
        "\n",
        "print(\"- 3 \" + \"-\"*76)\n",
        "for (label, value) in sorted(response.headers.items()):\n",
        "  print(f\"{label}: {value}\")\n",
        "\n",
        "print(\"\")\n",
        "\n",
        "print(response.text, end=\"\")\n",
        "print(\"-\"*80)\n",
        "\n",
        "response = session.get('https://httpbin.org/cookies/delete?imie&nazwisko', timeout=30)\n",
        "\n",
        "print(\"- 4 \" + \"-\"*76)\n",
        "for (label, value) in sorted(response.headers.items()):\n",
        "  print(f\"{label}: {value}\")\n",
        "\n",
        "print(\"\")\n",
        "\n",
        "print(response.text, end=\"\")\n",
        "print(\"-\"*80)"
      ],
      "metadata": {
        "id": "ZTRD3h8GkhBr"
      },
      "execution_count": null,
      "outputs": []
    }
  ]
}