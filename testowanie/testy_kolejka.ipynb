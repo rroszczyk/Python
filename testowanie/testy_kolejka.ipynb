{
  "nbformat": 4,
  "nbformat_minor": 0,
  "metadata": {
    "colab": {
      "provenance": [],
      "authorship_tag": "ABX9TyNeLdsw01Ny5/QmDqAnDaLK",
      "include_colab_link": true
    },
    "kernelspec": {
      "name": "python3",
      "display_name": "Python 3"
    },
    "language_info": {
      "name": "python"
    }
  },
  "cells": [
    {
      "cell_type": "markdown",
      "metadata": {
        "id": "view-in-github",
        "colab_type": "text"
      },
      "source": [
        "<a href=\"https://colab.research.google.com/github/rroszczyk/Python/blob/master/testowanie/testy_kolejka.ipynb\" target=\"_parent\"><img src=\"https://colab.research.google.com/assets/colab-badge.svg\" alt=\"Open In Colab\"/></a>"
      ]
    },
    {
      "cell_type": "code",
      "execution_count": 1,
      "metadata": {
        "colab": {
          "base_uri": "https://localhost:8080/"
        },
        "id": "qZ5ZgJ7lFKC7",
        "outputId": "18fd37c8-9ec9-409f-edc7-da57444900a7"
      },
      "outputs": [
        {
          "output_type": "stream",
          "name": "stdout",
          "text": [
            "Writing node.py\n"
          ]
        }
      ],
      "source": [
        "%%writefile node.py\n",
        "\n",
        "class Node:\n",
        "    def __init__(self, value):\n",
        "        self.value = value\n",
        "        self.next = None\n",
        "        self.prev = None\n"
      ]
    },
    {
      "cell_type": "code",
      "source": [
        "%%writefile deque.py\n",
        "\n",
        "from node import Node\n",
        "\n",
        "class Deque:\n",
        "    def __init__(self):\n",
        "        self.head = None\n",
        "        self.tail = None\n",
        "\n",
        "    def isEmpty(self):\n",
        "        return self.head is None\n",
        "\n",
        "    def addFront(self, value):\n",
        "        new_node = Node(value)\n",
        "        if self.isEmpty():\n",
        "            self.head = self.tail = new_node\n",
        "        else:\n",
        "            new_node.next = self.head\n",
        "            self.head.prev = new_node\n",
        "            self.head = new_node\n",
        "\n",
        "    def addRear(self, value):\n",
        "        new_node = Node(value)\n",
        "        if self.isEmpty():\n",
        "            self.head = self.tail = new_node\n",
        "        else:\n",
        "            new_node.prev = self.tail\n",
        "            self.tail.next = new_node\n",
        "            self.tail = new_node\n",
        "\n",
        "    def removeFront(self):\n",
        "        if self.isEmpty():\n",
        "            raise Exception(\"Kolejka jest pusta\")\n",
        "        value = self.head.value\n",
        "        self.head = self.head.next\n",
        "        if self.head is not None:\n",
        "            self.head.prev = None\n",
        "        else:\n",
        "            self.tail = None\n",
        "        return value\n",
        "\n",
        "    def removeRear(self):\n",
        "        if self.isEmpty():\n",
        "            raise Exception(\"Kolejka jest pusta\")\n",
        "        value = self.tail.value\n",
        "        self.tail = self.tail.prev\n",
        "        if self.tail is not None:\n",
        "            self.tail.next = None\n",
        "        else:\n",
        "            self.head = None\n",
        "        return value\n",
        "\n",
        "    def peekFront(self):\n",
        "        if self.isEmpty():\n",
        "            raise Exception(\"Kolejka jest pusta\")\n",
        "        return self.head.value\n",
        "\n",
        "    def peekRear(self):\n",
        "        if self.isEmpty():\n",
        "            raise Exception(\"Kolejka jest pusta\")\n",
        "        return self.tail.value\n",
        "\n",
        "    def toList(self):\n",
        "        lst = []\n",
        "        current = self.head\n",
        "        while current:\n",
        "            lst.append(current.value)\n",
        "            current = current.next\n",
        "        return lst\n",
        "\n",
        "    def buildHeap(self, lst):\n",
        "        n = len(lst)\n",
        "        for i in range(n // 2 - 1, -1, -1):\n",
        "            self.heapify(lst, n, i)\n",
        "\n",
        "    def heapify(self, lst, n, i):\n",
        "        largest = i\n",
        "        left = 2 * i + 1\n",
        "        right = 2 * i + 2\n",
        "\n",
        "        if left < n and lst[i] < lst[left]:\n",
        "            largest = left\n",
        "\n",
        "        if right < n and lst[largest] < lst[right]:\n",
        "            largest = right\n",
        "\n",
        "        if largest != i:\n",
        "            lst[i], lst[largest] = lst[largest], lst[i]\n",
        "            self.heapify(lst, n, largest)\n",
        "\n",
        "    def heapSort(self):\n",
        "        lst = self.toList()\n",
        "        self.buildHeap(lst)\n",
        "        n = len(lst)\n",
        "        for i in range(n - 1, 0, -1):\n",
        "            lst[i], lst[0] = lst[0], lst[i]\n",
        "            self.heapify(lst, i, 0)\n",
        "        self.head = None\n",
        "        self.tail = None\n",
        "        for item in lst:\n",
        "            self.addRear(item)\n",
        "\n",
        "    def printQueue(self):\n",
        "        current = self.head\n",
        "        while current:\n",
        "            print(current.value, end=\" \")\n",
        "            current = current.next\n",
        "        print()"
      ],
      "metadata": {
        "colab": {
          "base_uri": "https://localhost:8080/"
        },
        "id": "fE2iN5bPJcmj",
        "outputId": "ef20cd05-6c97-42c4-f68e-9d6512403650"
      },
      "execution_count": 2,
      "outputs": [
        {
          "output_type": "stream",
          "name": "stdout",
          "text": [
            "Writing deque.py\n"
          ]
        }
      ]
    },
    {
      "cell_type": "code",
      "source": [
        "%%writefile sample.py\n",
        "\n",
        "from deque import Deque\n",
        "\n",
        "# Utworzenie instancji kolejki dwukierunkowej\n",
        "dq = Deque()\n",
        "\n",
        "# Dodawanie elementów na oba końce kolejki\n",
        "dq.addFront(1) # Kolejka: 1\n",
        "dq.addFront(2) # Kolejka: 2, 1\n",
        "dq.addRear(3)  # Kolejka: 2, 1, 3\n",
        "dq.addRear(4)  # Kolejka: 2, 1, 3, 4\n",
        "\n",
        "# Wyświetlenie wartości na obu końcach kolejki\n",
        "print(\"Początek:\", dq.peekFront()) # Powinno wyświetlić 2\n",
        "print(\"Koniec:\", dq.peekRear())   # Powinno wyświetlić 4\n",
        "\n",
        "# Wyświetlenie zawartości kolejki\n",
        "print(\"Zawartość kolejki:\")\n",
        "dq.printQueue() # Powinno wyświetlić: 2 1 3 4\n",
        "\n",
        "# Usuwanie elementów z obu końców kolejki\n",
        "print(\"Usunięcie elementu na początku:\", dq.removeFront()) # Usuwa 2, Kolejka: 1, 3, 4\n",
        "print(\"Usunięcie elementu na końcu:\", dq.removeRear())   # Usuwa 4, Kolejka: 1, 3\n",
        "\n",
        "# Sprawdzanie, czy kolejka jest pusta\n",
        "print(\"Czy kolejka jest pusta?\", dq.isEmpty()) # Powinno wyświetlić False\n",
        "\n",
        "# Wyświetlenie bieżącego stanu kolejki\n",
        "print(\"Początek:\", dq.peekFront()) # Powinno wyświetlić 1\n",
        "print(\"Koniec:\", dq.peekRear())   # Powinno wyświetlić 3\n",
        "\n",
        "dq.addFront(7) # Kolejka: 7 1 3\n",
        "\n",
        "dq.printQueue()\n",
        "\n",
        "dq.addFront(5) # Kolejka: 5 7 1 3\n",
        "\n",
        "dq.printQueue()\n",
        "\n",
        "dq.addRear(9)  # Kolejka: 5 7 1 3 9\n",
        "\n",
        "dq.printQueue()\n",
        "\n",
        "dq.addRear(8)  # Kolejka: 5 7 1 3 9 8\n",
        "\n",
        "dq.printQueue()\n",
        "# Wyświetlenie zawartości kolejki przed sortowaniem\n",
        "print(\"Kolejka przed sortowaniem:\")\n",
        "dq.printQueue()\n",
        "\n",
        "# Sortowanie kolejki\n",
        "dq.heapSort()\n",
        "\n",
        "# Wyświetlenie zawartości kolejki po sortowaniu\n",
        "print(\"Kolejka po sortowaniu:\")\n",
        "dq.printQueue()"
      ],
      "metadata": {
        "colab": {
          "base_uri": "https://localhost:8080/"
        },
        "id": "7acsoyt7Fikw",
        "outputId": "2c977af0-4ed8-4ecd-e172-9c871e7253c4"
      },
      "execution_count": 3,
      "outputs": [
        {
          "output_type": "stream",
          "name": "stdout",
          "text": [
            "Writing sample.py\n"
          ]
        }
      ]
    },
    {
      "cell_type": "code",
      "source": [
        "!python sample.py"
      ],
      "metadata": {
        "colab": {
          "base_uri": "https://localhost:8080/"
        },
        "id": "ofbp67zXJshN",
        "outputId": "d7138f02-d8ed-4330-b00c-1ccff08df920"
      },
      "execution_count": 4,
      "outputs": [
        {
          "output_type": "stream",
          "name": "stdout",
          "text": [
            "Początek: 2\n",
            "Koniec: 4\n",
            "Zawartość kolejki:\n",
            "2 1 3 4 \n",
            "Usunięcie elementu na początku: 2\n",
            "Usunięcie elementu na końcu: 4\n",
            "Czy kolejka jest pusta? False\n",
            "Początek: 1\n",
            "Koniec: 3\n",
            "7 1 3 \n",
            "5 7 1 3 \n",
            "5 7 1 3 9 \n",
            "5 7 1 3 9 8 \n",
            "Kolejka przed sortowaniem:\n",
            "5 7 1 3 9 8 \n",
            "Kolejka po sortowaniu:\n",
            "1 3 5 7 8 9 \n"
          ]
        }
      ]
    },
    {
      "cell_type": "code",
      "source": [
        "%%writefile test_sample.py\n",
        "\n",
        "import unittest\n",
        "from deque import Deque\n",
        "\n",
        "class TestDeque(unittest.TestCase):\n",
        "\n",
        "    def test_addFront(self):\n",
        "        # Testy dla addFront\n",
        "        pass\n",
        "\n",
        "    def test_addRear(self):\n",
        "        # Testy dla addRear\n",
        "        pass\n",
        "\n",
        "    # Dalsze testy dla removeFront, removeRear, itp.\n",
        "\n",
        "if __name__ == '__main__':\n",
        "    unittest.main()\n"
      ],
      "metadata": {
        "colab": {
          "base_uri": "https://localhost:8080/"
        },
        "id": "c2lR-XY1JHR6",
        "outputId": "8b252620-54eb-4090-bc22-36af99904364"
      },
      "execution_count": 5,
      "outputs": [
        {
          "output_type": "stream",
          "name": "stdout",
          "text": [
            "Writing test_sample.py\n"
          ]
        }
      ]
    },
    {
      "cell_type": "code",
      "source": [
        "!pip install coverage"
      ],
      "metadata": {
        "colab": {
          "base_uri": "https://localhost:8080/"
        },
        "id": "ryFHqI_kFXNy",
        "outputId": "5e958936-f661-4ccf-e74a-92de1e077ee6"
      },
      "execution_count": 6,
      "outputs": [
        {
          "output_type": "stream",
          "name": "stdout",
          "text": [
            "Collecting coverage\n",
            "  Downloading coverage-7.3.3-cp310-cp310-manylinux_2_5_x86_64.manylinux1_x86_64.manylinux_2_17_x86_64.manylinux2014_x86_64.whl (228 kB)\n",
            "\u001b[2K     \u001b[90m━━━━━━━━━━━━━━━━━━━━━━━━━━━━━━━━━━━━━━━━\u001b[0m \u001b[32m229.0/229.0 kB\u001b[0m \u001b[31m1.2 MB/s\u001b[0m eta \u001b[36m0:00:00\u001b[0m\n",
            "\u001b[?25hInstalling collected packages: coverage\n",
            "Successfully installed coverage-7.3.3\n"
          ]
        }
      ]
    },
    {
      "cell_type": "code",
      "source": [
        "!coverage run -m unittest sample.py"
      ],
      "metadata": {
        "colab": {
          "base_uri": "https://localhost:8080/"
        },
        "id": "1-DQzHODIii7",
        "outputId": "66066686-49a5-4ed8-8caa-35b7f8825b33"
      },
      "execution_count": 7,
      "outputs": [
        {
          "output_type": "stream",
          "name": "stdout",
          "text": [
            "Początek: 2\n",
            "Koniec: 4\n",
            "Zawartość kolejki:\n",
            "2 1 3 4 \n",
            "Usunięcie elementu na początku: 2\n",
            "Usunięcie elementu na końcu: 4\n",
            "Czy kolejka jest pusta? False\n",
            "Początek: 1\n",
            "Koniec: 3\n",
            "7 1 3 \n",
            "5 7 1 3 \n",
            "5 7 1 3 9 \n",
            "5 7 1 3 9 8 \n",
            "Kolejka przed sortowaniem:\n",
            "5 7 1 3 9 8 \n",
            "Kolejka po sortowaniu:\n",
            "1 3 5 7 8 9 \n",
            "\n",
            "----------------------------------------------------------------------\n",
            "Ran 0 tests in 0.000s\n",
            "\n",
            "OK\n"
          ]
        }
      ]
    },
    {
      "cell_type": "code",
      "source": [
        "!coverage run -m unittest test_sample.py"
      ],
      "metadata": {
        "colab": {
          "base_uri": "https://localhost:8080/"
        },
        "id": "P9fAfsGrKHO7",
        "outputId": "59671b8c-4785-4a99-ae1d-fea7c3b60b6a"
      },
      "execution_count": 8,
      "outputs": [
        {
          "output_type": "stream",
          "name": "stdout",
          "text": [
            "..\n",
            "----------------------------------------------------------------------\n",
            "Ran 2 tests in 0.000s\n",
            "\n",
            "OK\n"
          ]
        }
      ]
    },
    {
      "cell_type": "code",
      "source": [
        "!coverage report"
      ],
      "metadata": {
        "colab": {
          "base_uri": "https://localhost:8080/"
        },
        "id": "PxIAfuIIIrI3",
        "outputId": "e29afd3b-324d-4ac7-b959-7c3101d699e9"
      },
      "execution_count": 9,
      "outputs": [
        {
          "output_type": "stream",
          "name": "stdout",
          "text": [
            "Name             Stmts   Miss  Cover\n",
            "------------------------------------\n",
            "deque.py            86     71    17%\n",
            "node.py              5      3    40%\n",
            "test_sample.py       9      1    89%\n",
            "------------------------------------\n",
            "TOTAL              100     75    25%\n"
          ]
        }
      ]
    },
    {
      "cell_type": "code",
      "source": [
        "!coverage html"
      ],
      "metadata": {
        "colab": {
          "base_uri": "https://localhost:8080/"
        },
        "id": "zJo16Y0qIvfU",
        "outputId": "886708df-e0d7-46da-b967-e493975030ec"
      },
      "execution_count": 10,
      "outputs": [
        {
          "output_type": "stream",
          "name": "stdout",
          "text": [
            "Wrote HTML report to \u001b]8;;file:///content/htmlcov/index.html\u0007htmlcov/index.html\u001b]8;;\u0007\n"
          ]
        }
      ]
    },
    {
      "cell_type": "code",
      "source": [
        "!zip -r htmlcov.zip htmlcov"
      ],
      "metadata": {
        "id": "mwT5SBQeVpD8",
        "outputId": "730fc96a-d032-46a5-ed46-8918d18b81d0",
        "colab": {
          "base_uri": "https://localhost:8080/"
        }
      },
      "execution_count": 11,
      "outputs": [
        {
          "output_type": "stream",
          "name": "stdout",
          "text": [
            "  adding: htmlcov/ (stored 0%)\n",
            "  adding: htmlcov/keybd_closed.png (deflated 32%)\n",
            "  adding: htmlcov/deque_py.html (deflated 91%)\n",
            "  adding: htmlcov/style.css (deflated 79%)\n",
            "  adding: htmlcov/favicon_32.png (stored 0%)\n",
            "  adding: htmlcov/coverage_html.js (deflated 74%)\n",
            "  adding: htmlcov/test_sample_py.html (deflated 81%)\n",
            "  adding: htmlcov/index.html (deflated 73%)\n",
            "  adding: htmlcov/node_py.html (deflated 78%)\n",
            "  adding: htmlcov/keybd_open.png (deflated 32%)\n",
            "  adding: htmlcov/status.json (deflated 53%)\n",
            "  adding: htmlcov/.gitignore (stored 0%)\n"
          ]
        }
      ]
    }
  ]
}