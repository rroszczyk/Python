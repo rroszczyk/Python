{
  "nbformat": 4,
  "nbformat_minor": 0,
  "metadata": {
    "colab": {
      "provenance": [],
      "authorship_tag": "ABX9TyOk48A7EE67m0zLpMybsFc+",
      "include_colab_link": true
    },
    "kernelspec": {
      "name": "python3",
      "display_name": "Python 3"
    },
    "language_info": {
      "name": "python"
    }
  },
  "cells": [
    {
      "cell_type": "markdown",
      "metadata": {
        "id": "view-in-github",
        "colab_type": "text"
      },
      "source": [
        "<a href=\"https://colab.research.google.com/github/rroszczyk/Python/blob/master/testowanie/testy_bench.ipynb\" target=\"_parent\"><img src=\"https://colab.research.google.com/assets/colab-badge.svg\" alt=\"Open In Colab\"/></a>"
      ]
    },
    {
      "cell_type": "code",
      "source": [
        "!pip install pytest-benchmark"
      ],
      "metadata": {
        "colab": {
          "base_uri": "https://localhost:8080/"
        },
        "id": "RUPC_mE1icqg",
        "outputId": "4cb21c57-262d-43fb-b96b-fd9c323cc417"
      },
      "execution_count": 1,
      "outputs": [
        {
          "output_type": "stream",
          "name": "stdout",
          "text": [
            "Collecting pytest-benchmark\n",
            "  Downloading pytest_benchmark-4.0.0-py3-none-any.whl (43 kB)\n",
            "\u001b[2K     \u001b[90m━━━━━━━━━━━━━━━━━━━━━━━━━━━━━━━━━━━━━━━━\u001b[0m \u001b[32m44.0/44.0 kB\u001b[0m \u001b[31m541.7 kB/s\u001b[0m eta \u001b[36m0:00:00\u001b[0m\n",
            "\u001b[?25hRequirement already satisfied: pytest>=3.8 in /usr/local/lib/python3.10/dist-packages (from pytest-benchmark) (7.4.3)\n",
            "Requirement already satisfied: py-cpuinfo in /usr/local/lib/python3.10/dist-packages (from pytest-benchmark) (9.0.0)\n",
            "Requirement already satisfied: iniconfig in /usr/local/lib/python3.10/dist-packages (from pytest>=3.8->pytest-benchmark) (2.0.0)\n",
            "Requirement already satisfied: packaging in /usr/local/lib/python3.10/dist-packages (from pytest>=3.8->pytest-benchmark) (23.2)\n",
            "Requirement already satisfied: pluggy<2.0,>=0.12 in /usr/local/lib/python3.10/dist-packages (from pytest>=3.8->pytest-benchmark) (1.3.0)\n",
            "Requirement already satisfied: exceptiongroup>=1.0.0rc8 in /usr/local/lib/python3.10/dist-packages (from pytest>=3.8->pytest-benchmark) (1.2.0)\n",
            "Requirement already satisfied: tomli>=1.0.0 in /usr/local/lib/python3.10/dist-packages (from pytest>=3.8->pytest-benchmark) (2.0.1)\n",
            "Installing collected packages: pytest-benchmark\n",
            "Successfully installed pytest-benchmark-4.0.0\n"
          ]
        }
      ]
    },
    {
      "cell_type": "code",
      "execution_count": 2,
      "metadata": {
        "colab": {
          "base_uri": "https://localhost:8080/"
        },
        "id": "IWwo5MI7hXEb",
        "outputId": "f7a8cd8b-1464-4d33-ad64-b48089b75ebd"
      },
      "outputs": [
        {
          "output_type": "stream",
          "name": "stdout",
          "text": [
            "Writing test_funkcji.py\n"
          ]
        }
      ],
      "source": [
        "%%writefile test_funkcji.py\n",
        "import pytest\n",
        "import time\n",
        "\n",
        "def funcA():\n",
        "    print(\"Uruchamiamy funkcję A\")\n",
        "    time.sleep(0.05)\n",
        "    print(\"Konczymy funkcję A\")\n",
        "\n",
        "def funcB():\n",
        "    print(\"Uruchamiamy funkcję B\")\n",
        "    time.sleep(0.01)\n",
        "    print(\"Konczymy funkcję B\")\n",
        "\n",
        "def listaA():\n",
        "  kolekcja = [i for i in range(0,10000,2)]\n",
        "\n",
        "def listaB():\n",
        "  kolekcja = []\n",
        "  for i in range(0,10000,2):\n",
        "    kolekcja.append(i)\n",
        "\n",
        "def test_func_a(benchmark):\n",
        "    benchmark(funcA)\n",
        "\n",
        "def test_func_b(benchmark):\n",
        "    benchmark.pedantic(funcB, iterations=100, rounds=10)\n",
        "\n",
        "def test_lista_a(benchmark):\n",
        "  benchmark.pedantic(listaA, iterations=100, rounds=10)\n",
        "\n",
        "def test_lista_b(benchmark):\n",
        "  benchmark.pedantic(listaB, iterations=100, rounds=10)"
      ]
    },
    {
      "cell_type": "code",
      "source": [
        "!pytest test_funkcji.py"
      ],
      "metadata": {
        "colab": {
          "base_uri": "https://localhost:8080/"
        },
        "id": "Z0fgMnyqiWQ6",
        "outputId": "1f77a389-8696-49d2-f70c-5d661beba541"
      },
      "execution_count": 3,
      "outputs": [
        {
          "output_type": "stream",
          "name": "stdout",
          "text": [
            "\u001b[1m======================================= test session starts ========================================\u001b[0m\n",
            "platform linux -- Python 3.10.12, pytest-7.4.3, pluggy-1.3.0\n",
            "benchmark: 4.0.0 (defaults: timer=time.perf_counter disable_gc=False min_rounds=5 min_time=0.000005 max_time=1.0 calibration_precision=10 warmup=False warmup_iterations=100000)\n",
            "rootdir: /content\n",
            "plugins: benchmark-4.0.0, anyio-3.7.1\n",
            "\u001b[1mcollecting ... \u001b[0m\u001b[1m\rcollected 4 items                                                                                  \u001b[0m\n",
            "\n",
            "test_funkcji.py \u001b[32m.\u001b[0m\u001b[32m.\u001b[0m\u001b[32m.\u001b[0m\u001b[32m.\u001b[0m\u001b[32m                                                                         [100%]\u001b[0m\n",
            "\n",
            "\n",
            "\u001b[33m--------------------------------------------------------------------------------------------- benchmark: 4 tests --------------------------------------------------------------------------------------------\u001b[0m\n",
            "Name (time in us)             Min                    Max                   Mean              StdDev                 Median                 IQR            Outliers          OPS            Rounds  Iterations\n",
            "\u001b[33m-------------------------------------------------------------------------------------------------------------------------------------------------------------------------------------------------------------\u001b[0m\n",
            "test_lista_a        \u001b[32m\u001b[1m      19.0457 (1.0)    \u001b[0m\u001b[1m      42.4443 (1.11)   \u001b[0m\u001b[32m\u001b[1m      23.7377 (1.0)    \u001b[0m\u001b[1m    6.7772 (4.55)   \u001b[0m\u001b[32m\u001b[1m      22.2134 (1.0)    \u001b[0m\u001b[1m    2.7026 (1.54)   \u001b[0m       1;1\u001b[32m\u001b[1m  42,127.1320 (1.0)    \u001b[0m      10         100\n",
            "test_lista_b        \u001b[1m      32.8362 (1.72)   \u001b[0m\u001b[32m\u001b[1m      38.0800 (1.0)    \u001b[0m\u001b[1m      34.5063 (1.45)   \u001b[0m\u001b[32m\u001b[1m    1.4908 (1.0)    \u001b[0m\u001b[1m      34.3614 (1.55)   \u001b[0m\u001b[32m\u001b[1m    1.7575 (1.0)    \u001b[0m       2;1\u001b[1m  28,980.1967 (0.69)   \u001b[0m      10         100\n",
            "test_func_b         \u001b[1m  10,188.8371 (534.97) \u001b[0m\u001b[1m  10,638.5075 (279.37) \u001b[0m\u001b[1m  10,322.3595 (434.85) \u001b[0m\u001b[31m\u001b[1m  155.5997 (104.37) \u001b[0m\u001b[1m  10,235.6036 (460.79) \u001b[0m\u001b[31m\u001b[1m  235.3373 (133.91) \u001b[0m       2;0\u001b[1m      96.8771 (0.00)   \u001b[0m      10         100\n",
            "test_func_a         \u001b[31m\u001b[1m  50,154.1870 (>1000.0)\u001b[0m\u001b[31m\u001b[1m  50,647.6050 (>1000.0)\u001b[0m\u001b[31m\u001b[1m  50,218.7781 (>1000.0)\u001b[0m\u001b[1m  106.3538 (71.34)  \u001b[0m\u001b[31m\u001b[1m  50,183.1315 (>1000.0)\u001b[0m\u001b[1m   35.5560 (20.23)  \u001b[0m       1;2\u001b[31m\u001b[1m      19.9129 (0.00)   \u001b[0m      20           1\n",
            "\u001b[33m-------------------------------------------------------------------------------------------------------------------------------------------------------------------------------------------------------------\u001b[0m\n",
            "\n",
            "Legend:\n",
            "  Outliers: 1 Standard Deviation from Mean; 1.5 IQR (InterQuartile Range) from 1st Quartile and 3rd Quartile.\n",
            "  OPS: Operations Per Second, computed as 1 / Mean\n",
            "\u001b[32m======================================== \u001b[32m\u001b[1m4 passed\u001b[0m\u001b[32m in 12.52s\u001b[0m\u001b[32m ========================================\u001b[0m\n"
          ]
        }
      ]
    }
  ]
}