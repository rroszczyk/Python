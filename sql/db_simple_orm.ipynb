{
  "nbformat": 4,
  "nbformat_minor": 0,
  "metadata": {
    "colab": {
      "provenance": [],
      "authorship_tag": "ABX9TyPbSgt4rYIfTSOeGO1/uDgc",
      "include_colab_link": true
    },
    "kernelspec": {
      "name": "python3",
      "display_name": "Python 3"
    },
    "language_info": {
      "name": "python"
    }
  },
  "cells": [
    {
      "cell_type": "markdown",
      "metadata": {
        "id": "view-in-github",
        "colab_type": "text"
      },
      "source": [
        "<a href=\"https://colab.research.google.com/github/rroszczyk/Python/blob/master/sql/db_simple_orm.ipynb\" target=\"_parent\"><img src=\"https://colab.research.google.com/assets/colab-badge.svg\" alt=\"Open In Colab\"/></a>"
      ]
    },
    {
      "cell_type": "code",
      "execution_count": 1,
      "metadata": {
        "colab": {
          "base_uri": "https://localhost:8080/"
        },
        "id": "6qUA2hmZe08J",
        "outputId": "62b8ff5e-8979-40bc-879b-c4b9491d3a59"
      },
      "outputs": [
        {
          "output_type": "stream",
          "name": "stdout",
          "text": [
            "Collecting ORM-SQLite\n",
            "  Downloading ORM_SQLite-0.0.2-py3-none-any.whl (8.3 kB)\n",
            "Installing collected packages: ORM-SQLite\n",
            "Successfully installed ORM-SQLite-0.0.2\n"
          ]
        }
      ],
      "source": [
        "!pip install ORM-SQLite\n",
        "import orm_sqlite"
      ]
    },
    {
      "cell_type": "code",
      "source": [
        "class Pomodoro(orm_sqlite.Model):\n",
        "\n",
        "    id = orm_sqlite.IntegerField(primary_key=True) # auto-increment\n",
        "    task = orm_sqlite.StringField()\n",
        "    interval = orm_sqlite.IntegerField()"
      ],
      "metadata": {
        "id": "Jr4bQvxVfFkZ"
      },
      "execution_count": 2,
      "outputs": []
    },
    {
      "cell_type": "code",
      "source": [
        "db = orm_sqlite.Database('example.db')"
      ],
      "metadata": {
        "id": "zY5uyt2yfMQx"
      },
      "execution_count": 3,
      "outputs": []
    },
    {
      "cell_type": "code",
      "source": [
        "Pomodoro.objects.backend = db"
      ],
      "metadata": {
        "id": "HNKlIYcLfNWt"
      },
      "execution_count": 4,
      "outputs": []
    },
    {
      "cell_type": "code",
      "source": [
        "pomodoro = Pomodoro({'task': 'do something', 'interval': 25})\n",
        "pomodoro.save()"
      ],
      "metadata": {
        "colab": {
          "base_uri": "https://localhost:8080/"
        },
        "id": "zZ0h6fWVfOLy",
        "outputId": "e7d1c63b-0384-4465-90b0-c0aa0a9c3de9"
      },
      "execution_count": 5,
      "outputs": [
        {
          "output_type": "execute_result",
          "data": {
            "text/plain": [
              "1"
            ]
          },
          "metadata": {},
          "execution_count": 5
        }
      ]
    },
    {
      "cell_type": "code",
      "source": [
        "pomodoro = Pomodoro({'task': 'do something', 'interval': 25})\n",
        "Pomodoro.objects.add(pomodoro)"
      ],
      "metadata": {
        "colab": {
          "base_uri": "https://localhost:8080/"
        },
        "id": "woGJnO1NfPNi",
        "outputId": "0ac3db48-6885-4e5e-e391-f1cbfc99859e"
      },
      "execution_count": 6,
      "outputs": [
        {
          "output_type": "execute_result",
          "data": {
            "text/plain": [
              "1"
            ]
          },
          "metadata": {},
          "execution_count": 6
        }
      ]
    },
    {
      "cell_type": "code",
      "source": [
        "Pomodoro.objects.all()"
      ],
      "metadata": {
        "colab": {
          "base_uri": "https://localhost:8080/"
        },
        "id": "NzrciBMmfQyG",
        "outputId": "a8e86f4f-3bd8-4cd2-a937-60ea44228e07"
      },
      "execution_count": 7,
      "outputs": [
        {
          "output_type": "execute_result",
          "data": {
            "text/plain": [
              "[{'id': 1, 'task': 'do something', 'interval': 25},\n",
              " {'id': 2, 'task': 'do something', 'interval': 25}]"
            ]
          },
          "metadata": {},
          "execution_count": 7
        }
      ]
    },
    {
      "cell_type": "code",
      "source": [
        "obj = Pomodoro.objects.get(pk=1)\n",
        "obj['task'] = 'do something else'\n",
        "obj.update()"
      ],
      "metadata": {
        "id": "PMWsyNZCfRt_",
        "colab": {
          "base_uri": "https://localhost:8080/"
        },
        "outputId": "70c26eb6-5b28-44dc-d6e9-801e89c8d812"
      },
      "execution_count": 8,
      "outputs": [
        {
          "output_type": "execute_result",
          "data": {
            "text/plain": [
              "1"
            ]
          },
          "metadata": {},
          "execution_count": 8
        }
      ]
    },
    {
      "cell_type": "code",
      "source": [
        "obj = Pomodoro.objects.get(pk=1)\n",
        "obj['task'] = 'do something else'\n",
        "Pomodoro.objects.update(obj)"
      ],
      "metadata": {
        "id": "pTUSmjopfSpD",
        "colab": {
          "base_uri": "https://localhost:8080/"
        },
        "outputId": "960cb5bb-e326-435d-a276-bc16f35d0c20"
      },
      "execution_count": 9,
      "outputs": [
        {
          "output_type": "execute_result",
          "data": {
            "text/plain": [
              "1"
            ]
          },
          "metadata": {},
          "execution_count": 9
        }
      ]
    },
    {
      "cell_type": "code",
      "source": [
        "Pomodoro.objects.get(pk=1).delete()"
      ],
      "metadata": {
        "id": "gy-mUu0ufThi",
        "colab": {
          "base_uri": "https://localhost:8080/"
        },
        "outputId": "88151e21-0792-4a62-8338-6d6b4ac6f87b"
      },
      "execution_count": 10,
      "outputs": [
        {
          "output_type": "execute_result",
          "data": {
            "text/plain": [
              "1"
            ]
          },
          "metadata": {},
          "execution_count": 10
        }
      ]
    },
    {
      "cell_type": "code",
      "source": [
        "# obj = Pomodoro.objects.get(pk=1)\n",
        "# Pomodoro.objects.remove(obj)"
      ],
      "metadata": {
        "id": "5exsUUjLfUy-"
      },
      "execution_count": 11,
      "outputs": []
    },
    {
      "cell_type": "code",
      "source": [
        "Pomodoro.objects.backend.close()"
      ],
      "metadata": {
        "id": "bFQatcFrfV2B"
      },
      "execution_count": 12,
      "outputs": []
    },
    {
      "cell_type": "code",
      "source": [
        "%load_ext sql"
      ],
      "metadata": {
        "id": "Jf7xoo93fsCY"
      },
      "execution_count": 13,
      "outputs": []
    },
    {
      "cell_type": "code",
      "source": [
        "%%sql\n",
        "sqlite:///example.db"
      ],
      "metadata": {
        "id": "b339vbp9fwdn"
      },
      "execution_count": 14,
      "outputs": []
    },
    {
      "cell_type": "code",
      "source": [
        "%%sql\n",
        "SELECT * FROM Pomodoro"
      ],
      "metadata": {
        "colab": {
          "base_uri": "https://localhost:8080/",
          "height": 96
        },
        "id": "6oePN4unf7QH",
        "outputId": "8ffd07de-0589-4810-dbdc-ea77f86ee909"
      },
      "execution_count": 15,
      "outputs": [
        {
          "output_type": "stream",
          "name": "stdout",
          "text": [
            " * sqlite:///example.db\n",
            "Done.\n"
          ]
        },
        {
          "output_type": "execute_result",
          "data": {
            "text/plain": [
              "[(2, 'do something', 25)]"
            ],
            "text/html": [
              "<table>\n",
              "    <thead>\n",
              "        <tr>\n",
              "            <th>id</th>\n",
              "            <th>task</th>\n",
              "            <th>interval</th>\n",
              "        </tr>\n",
              "    </thead>\n",
              "    <tbody>\n",
              "        <tr>\n",
              "            <td>2</td>\n",
              "            <td>do something</td>\n",
              "            <td>25</td>\n",
              "        </tr>\n",
              "    </tbody>\n",
              "</table>"
            ]
          },
          "metadata": {},
          "execution_count": 15
        }
      ]
    }
  ]
}