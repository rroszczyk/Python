{
  "nbformat": 4,
  "nbformat_minor": 0,
  "metadata": {
    "colab": {
      "provenance": [],
      "authorship_tag": "ABX9TyMYZ3SpecBXlRGxK5RBefvJ",
      "include_colab_link": true
    },
    "kernelspec": {
      "name": "python3",
      "display_name": "Python 3"
    },
    "language_info": {
      "name": "python"
    }
  },
  "cells": [
    {
      "cell_type": "markdown",
      "metadata": {
        "id": "view-in-github",
        "colab_type": "text"
      },
      "source": [
        "<a href=\"https://colab.research.google.com/github/rroszczyk/Python/blob/master/sql/db_alchemy.ipynb\" target=\"_parent\"><img src=\"https://colab.research.google.com/assets/colab-badge.svg\" alt=\"Open In Colab\"/></a>"
      ]
    },
    {
      "cell_type": "code",
      "source": [
        "!pip install treelib"
      ],
      "metadata": {
        "colab": {
          "base_uri": "https://localhost:8080/"
        },
        "id": "yn58EK0CoTfz",
        "outputId": "83c64138-7940-44b4-94a8-a5f302ea066f"
      },
      "execution_count": 1,
      "outputs": [
        {
          "output_type": "stream",
          "name": "stdout",
          "text": [
            "Collecting treelib\n",
            "  Downloading treelib-1.7.0-py3-none-any.whl (18 kB)\n",
            "Requirement already satisfied: six in /usr/local/lib/python3.10/dist-packages (from treelib) (1.16.0)\n",
            "Installing collected packages: treelib\n",
            "Successfully installed treelib-1.7.0\n"
          ]
        }
      ]
    },
    {
      "cell_type": "code",
      "source": [
        "from treelib import Tree"
      ],
      "metadata": {
        "id": "SpJqHtH6oall"
      },
      "execution_count": 2,
      "outputs": []
    },
    {
      "cell_type": "code",
      "source": [
        "%%writefile books.csv\n",
        "first_name,last_name,title,publisher\n",
        "Isaac,Asimov,Foundation,Random House\n",
        "Pearl,Buck,The Good Earth,Random House\n",
        "Pearl,Buck,The Good Earth,Simon & Schuster\n",
        "Tom,Clancy,The Hunt For Red October,Berkley\n",
        "Tom,Clancy,Patriot Games,Simon & Schuster\n",
        "Stephen,King,It,Random House\n",
        "Stephen,King,It,Penguin Random House\n",
        "Stephen,King,Dead Zone,Random House\n",
        "Stephen,King,The Shining,Penguin Random House\n",
        "John,Le Carre,\"Tinker, Tailor, Solider, Spy: A George Smiley Novel\",Berkley\n",
        "Alex,Michaelides,The Silent Patient,Simon & Schuster\n",
        "Carol,Shaben,Into The Abyss,Simon & Schuster"
      ],
      "metadata": {
        "colab": {
          "base_uri": "https://localhost:8080/"
        },
        "id": "fIqJ-MIblK5H",
        "outputId": "db7225f7-a951-49dc-9696-3bf28a55aa25"
      },
      "execution_count": 3,
      "outputs": [
        {
          "output_type": "stream",
          "name": "stdout",
          "text": [
            "Writing books.csv\n"
          ]
        }
      ]
    },
    {
      "cell_type": "code",
      "execution_count": 4,
      "metadata": {
        "id": "VLKgpFY4g09u"
      },
      "outputs": [],
      "source": [
        "from sqlalchemy import Column, Integer, String, ForeignKey, Table\n",
        "from sqlalchemy.orm import relationship, backref, declarative_base\n",
        "from sqlalchemy.sql import asc, desc, func\n",
        "\n",
        "Base = declarative_base()\n",
        "\n",
        "author_publisher = Table(\n",
        "    \"author_publisher\",\n",
        "    Base.metadata,\n",
        "    Column(\"author_id\", Integer, ForeignKey(\"author.author_id\")),\n",
        "    Column(\"publisher_id\", Integer, ForeignKey(\"publisher.publisher_id\")),\n",
        ")\n",
        "\n",
        "book_publisher = Table(\n",
        "    \"book_publisher\",\n",
        "    Base.metadata,\n",
        "    Column(\"book_id\", Integer, ForeignKey(\"book.book_id\")),\n",
        "    Column(\"publisher_id\", Integer, ForeignKey(\"publisher.publisher_id\")),\n",
        ")\n",
        "\n",
        "class Author(Base):\n",
        "    __tablename__ = \"author\"\n",
        "    author_id = Column(Integer, primary_key=True)\n",
        "    first_name = Column(String)\n",
        "    last_name = Column(String)\n",
        "    books = relationship(\"Book\", backref=backref(\"author\"))\n",
        "    publishers = relationship(\n",
        "        \"Publisher\", secondary=author_publisher, back_populates=\"authors\"\n",
        "    )\n",
        "\n",
        "class Book(Base):\n",
        "    __tablename__ = \"book\"\n",
        "    book_id = Column(Integer, primary_key=True)\n",
        "    author_id = Column(Integer, ForeignKey(\"author.author_id\"))\n",
        "    title = Column(String)\n",
        "    publishers = relationship(\n",
        "        \"Publisher\", secondary=book_publisher, back_populates=\"books\"\n",
        "    )\n",
        "\n",
        "class Publisher(Base):\n",
        "    __tablename__ = \"publisher\"\n",
        "    publisher_id = Column(Integer, primary_key=True)\n",
        "    name = Column(String)\n",
        "    authors = relationship(\n",
        "        \"Author\", secondary=author_publisher, back_populates=\"publishers\"\n",
        "    )\n",
        "    books = relationship(\n",
        "        \"Book\", secondary=book_publisher, back_populates=\"publishers\"\n",
        "    )"
      ]
    },
    {
      "cell_type": "code",
      "source": [
        "import os\n",
        "import csv\n",
        "from importlib import resources\n",
        "from sqlalchemy import and_, create_engine\n",
        "from sqlalchemy.orm import sessionmaker\n",
        "\n",
        "def get_author_book_publisher_data(filepath):\n",
        "    \"\"\"\n",
        "    This function gets the data from the csv file\n",
        "    \"\"\"\n",
        "    with open(filepath) as csvfile:\n",
        "        csv_reader = csv.DictReader(csvfile)\n",
        "        data = [row for row in csv_reader]\n",
        "        return data\n",
        "\n",
        "\n",
        "def populate_database(session, author_book_publisher_data):\n",
        "    # insert the data\n",
        "    for row in author_book_publisher_data:\n",
        "\n",
        "        author = (\n",
        "            session.query(Author)\n",
        "            .filter(Author.last_name == row[\"last_name\"])\n",
        "            .one_or_none()\n",
        "        )\n",
        "        if author is None:\n",
        "            author = Author(\n",
        "                first_name=row[\"first_name\"], last_name=row[\"last_name\"]\n",
        "            )\n",
        "            session.add(author)\n",
        "\n",
        "        book = (\n",
        "            session.query(Book)\n",
        "            .filter(Book.title == row[\"title\"])\n",
        "            .one_or_none()\n",
        "        )\n",
        "        if book is None:\n",
        "            book = Book(title=row[\"title\"])\n",
        "            session.add(book)\n",
        "\n",
        "        publisher = (\n",
        "            session.query(Publisher)\n",
        "            .filter(Publisher.name == row[\"publisher\"])\n",
        "            .one_or_none()\n",
        "        )\n",
        "        if publisher is None:\n",
        "            publisher = Publisher(name=row[\"publisher\"])\n",
        "            session.add(publisher)\n",
        "\n",
        "        # add the items to the relationships\n",
        "        author.books.append(book)\n",
        "        author.publishers.append(publisher)\n",
        "        publisher.authors.append(author)\n",
        "        publisher.books.append(book)\n",
        "        session.commit()\n",
        "\n",
        "    session.close()\n",
        "\n",
        "\n",
        "def main():\n",
        "    print(\"starting\")\n",
        "\n",
        "    data = get_author_book_publisher_data(\"books.csv\")\n",
        "    author_book_publisher_data = data\n",
        "\n",
        "    # create the database\n",
        "    engine = create_engine(f\"sqlite:///books.db\")\n",
        "    Base.metadata.create_all(engine)\n",
        "    Session = sessionmaker()\n",
        "    Session.configure(bind=engine)\n",
        "    session = Session()\n",
        "    populate_database(session, author_book_publisher_data)\n",
        "\n",
        "    print(\"finished\")\n",
        "\n",
        "main()"
      ],
      "metadata": {
        "colab": {
          "base_uri": "https://localhost:8080/"
        },
        "id": "cGFy_akckGYd",
        "outputId": "3d9b956b-15ea-4275-835f-8ea6c780a7bd"
      },
      "execution_count": 5,
      "outputs": [
        {
          "output_type": "stream",
          "name": "stdout",
          "text": [
            "starting\n",
            "finished\n"
          ]
        }
      ]
    },
    {
      "cell_type": "code",
      "source": [
        "%load_ext sql"
      ],
      "metadata": {
        "id": "R26ITyvZh0eX"
      },
      "execution_count": 6,
      "outputs": []
    },
    {
      "cell_type": "code",
      "source": [
        "%%sql\n",
        "sqlite:///books.db"
      ],
      "metadata": {
        "id": "jK3qz8m3iAqB"
      },
      "execution_count": 7,
      "outputs": []
    },
    {
      "cell_type": "code",
      "source": [
        "%%sql\n",
        "SELECT * FROM sqlite_schema"
      ],
      "metadata": {
        "colab": {
          "base_uri": "https://localhost:8080/",
          "height": 616
        },
        "id": "40v5Gf5BlxXG",
        "outputId": "d8b40d10-354b-41b3-84f9-70da546acf5a"
      },
      "execution_count": 8,
      "outputs": [
        {
          "output_type": "stream",
          "name": "stdout",
          "text": [
            " * sqlite:///books.db\n",
            "Done.\n"
          ]
        },
        {
          "output_type": "execute_result",
          "data": {
            "text/plain": [
              "[('table', 'author', 'author', 2, 'CREATE TABLE author (\\n\\tauthor_id INTEGER NOT NULL, \\n\\tfirst_name VARCHAR, \\n\\tlast_name VARCHAR, \\n\\tPRIMARY KEY (author_id)\\n)'),\n",
              " ('table', 'publisher', 'publisher', 3, 'CREATE TABLE publisher (\\n\\tpublisher_id INTEGER NOT NULL, \\n\\tname VARCHAR, \\n\\tPRIMARY KEY (publisher_id)\\n)'),\n",
              " ('table', 'author_publisher', 'author_publisher', 4, 'CREATE TABLE author_publisher (\\n\\tauthor_id INTEGER, \\n\\tpublisher_id INTEGER, \\n\\tFOREIGN KEY(author_id) REFERENCES author (author_id), \\n\\tFOREIGN KEY(publisher_id) REFERENCES publisher (publisher_id)\\n)'),\n",
              " ('table', 'book', 'book', 5, 'CREATE TABLE book (\\n\\tbook_id INTEGER NOT NULL, \\n\\tauthor_id INTEGER, \\n\\ttitle VARCHAR, \\n\\tPRIMARY KEY (book_id), \\n\\tFOREIGN KEY(author_id) REFERENCES author (author_id)\\n)'),\n",
              " ('table', 'book_publisher', 'book_publisher', 6, 'CREATE TABLE book_publisher (\\n\\tbook_id INTEGER, \\n\\tpublisher_id INTEGER, \\n\\tFOREIGN KEY(book_id) REFERENCES book (book_id), \\n\\tFOREIGN KEY(publisher_id) REFERENCES publisher (publisher_id)\\n)')]"
            ],
            "text/html": [
              "<table>\n",
              "    <thead>\n",
              "        <tr>\n",
              "            <th>type</th>\n",
              "            <th>name</th>\n",
              "            <th>tbl_name</th>\n",
              "            <th>rootpage</th>\n",
              "            <th>sql</th>\n",
              "        </tr>\n",
              "    </thead>\n",
              "    <tbody>\n",
              "        <tr>\n",
              "            <td>table</td>\n",
              "            <td>author</td>\n",
              "            <td>author</td>\n",
              "            <td>2</td>\n",
              "            <td>CREATE TABLE author (<br>\tauthor_id INTEGER NOT NULL, <br>\tfirst_name VARCHAR, <br>\tlast_name VARCHAR, <br>\tPRIMARY KEY (author_id)<br>)</td>\n",
              "        </tr>\n",
              "        <tr>\n",
              "            <td>table</td>\n",
              "            <td>publisher</td>\n",
              "            <td>publisher</td>\n",
              "            <td>3</td>\n",
              "            <td>CREATE TABLE publisher (<br>\tpublisher_id INTEGER NOT NULL, <br>\tname VARCHAR, <br>\tPRIMARY KEY (publisher_id)<br>)</td>\n",
              "        </tr>\n",
              "        <tr>\n",
              "            <td>table</td>\n",
              "            <td>author_publisher</td>\n",
              "            <td>author_publisher</td>\n",
              "            <td>4</td>\n",
              "            <td>CREATE TABLE author_publisher (<br>\tauthor_id INTEGER, <br>\tpublisher_id INTEGER, <br>\tFOREIGN KEY(author_id) REFERENCES author (author_id), <br>\tFOREIGN KEY(publisher_id) REFERENCES publisher (publisher_id)<br>)</td>\n",
              "        </tr>\n",
              "        <tr>\n",
              "            <td>table</td>\n",
              "            <td>book</td>\n",
              "            <td>book</td>\n",
              "            <td>5</td>\n",
              "            <td>CREATE TABLE book (<br>\tbook_id INTEGER NOT NULL, <br>\tauthor_id INTEGER, <br>\ttitle VARCHAR, <br>\tPRIMARY KEY (book_id), <br>\tFOREIGN KEY(author_id) REFERENCES author (author_id)<br>)</td>\n",
              "        </tr>\n",
              "        <tr>\n",
              "            <td>table</td>\n",
              "            <td>book_publisher</td>\n",
              "            <td>book_publisher</td>\n",
              "            <td>6</td>\n",
              "            <td>CREATE TABLE book_publisher (<br>\tbook_id INTEGER, <br>\tpublisher_id INTEGER, <br>\tFOREIGN KEY(book_id) REFERENCES book (book_id), <br>\tFOREIGN KEY(publisher_id) REFERENCES publisher (publisher_id)<br>)</td>\n",
              "        </tr>\n",
              "    </tbody>\n",
              "</table>"
            ]
          },
          "metadata": {},
          "execution_count": 8
        }
      ]
    },
    {
      "cell_type": "code",
      "source": [
        "%%sql\n",
        "SELECT * FROM book"
      ],
      "metadata": {
        "colab": {
          "base_uri": "https://localhost:8080/",
          "height": 289
        },
        "id": "RvJAwVeRmCt1",
        "outputId": "eb715560-7173-4873-9be4-727298e0c8d2"
      },
      "execution_count": 9,
      "outputs": [
        {
          "output_type": "stream",
          "name": "stdout",
          "text": [
            " * sqlite:///books.db\n",
            "Done.\n"
          ]
        },
        {
          "output_type": "execute_result",
          "data": {
            "text/plain": [
              "[(1, 1, 'Foundation'),\n",
              " (2, 2, 'The Good Earth'),\n",
              " (3, 3, 'The Hunt For Red October'),\n",
              " (4, 3, 'Patriot Games'),\n",
              " (5, 4, 'It'),\n",
              " (6, 4, 'Dead Zone'),\n",
              " (7, 4, 'The Shining'),\n",
              " (8, 5, 'Tinker, Tailor, Solider, Spy: A George Smiley Novel'),\n",
              " (9, 6, 'The Silent Patient'),\n",
              " (10, 7, 'Into The Abyss')]"
            ],
            "text/html": [
              "<table>\n",
              "    <thead>\n",
              "        <tr>\n",
              "            <th>book_id</th>\n",
              "            <th>author_id</th>\n",
              "            <th>title</th>\n",
              "        </tr>\n",
              "    </thead>\n",
              "    <tbody>\n",
              "        <tr>\n",
              "            <td>1</td>\n",
              "            <td>1</td>\n",
              "            <td>Foundation</td>\n",
              "        </tr>\n",
              "        <tr>\n",
              "            <td>2</td>\n",
              "            <td>2</td>\n",
              "            <td>The Good Earth</td>\n",
              "        </tr>\n",
              "        <tr>\n",
              "            <td>3</td>\n",
              "            <td>3</td>\n",
              "            <td>The Hunt For Red October</td>\n",
              "        </tr>\n",
              "        <tr>\n",
              "            <td>4</td>\n",
              "            <td>3</td>\n",
              "            <td>Patriot Games</td>\n",
              "        </tr>\n",
              "        <tr>\n",
              "            <td>5</td>\n",
              "            <td>4</td>\n",
              "            <td>It</td>\n",
              "        </tr>\n",
              "        <tr>\n",
              "            <td>6</td>\n",
              "            <td>4</td>\n",
              "            <td>Dead Zone</td>\n",
              "        </tr>\n",
              "        <tr>\n",
              "            <td>7</td>\n",
              "            <td>4</td>\n",
              "            <td>The Shining</td>\n",
              "        </tr>\n",
              "        <tr>\n",
              "            <td>8</td>\n",
              "            <td>5</td>\n",
              "            <td>Tinker, Tailor, Solider, Spy: A George Smiley Novel</td>\n",
              "        </tr>\n",
              "        <tr>\n",
              "            <td>9</td>\n",
              "            <td>6</td>\n",
              "            <td>The Silent Patient</td>\n",
              "        </tr>\n",
              "        <tr>\n",
              "            <td>10</td>\n",
              "            <td>7</td>\n",
              "            <td>Into The Abyss</td>\n",
              "        </tr>\n",
              "    </tbody>\n",
              "</table>"
            ]
          },
          "metadata": {},
          "execution_count": 9
        }
      ]
    },
    {
      "cell_type": "code",
      "source": [
        "def output_author_hierarchy(authors, filename=\"authors.txt\"):\n",
        "    \"\"\"\n",
        "    Outputs the author/book/publisher information in\n",
        "    a hierarchical manner\n",
        "\n",
        "    :param authors:         the collection of root author objects\n",
        "    :return:                None\n",
        "    \"\"\"\n",
        "    authors_tree = Tree()\n",
        "    authors_tree.create_node(\"Authors\", \"authors\")\n",
        "    for author in authors:\n",
        "        author_id = f\"{author.first_name} {author.last_name}\"\n",
        "        authors_tree.create_node(author_id, author_id, parent=\"authors\")\n",
        "        for book in author.books:\n",
        "            book_id = f\"{author_id}:{book.title}\"\n",
        "            authors_tree.create_node(book.title, book_id, parent=author_id)\n",
        "            for publisher in book.publishers:\n",
        "                authors_tree.create_node(publisher.name, parent=book_id)\n",
        "    # Output the hierarchical authors data\n",
        "    # authors_tree.show()\n",
        "    authors_tree.save2file(filename)"
      ],
      "metadata": {
        "id": "7sJbKFXRn9ih"
      },
      "execution_count": 10,
      "outputs": []
    },
    {
      "cell_type": "code",
      "source": [
        "def get_books_by_publishers(session, ascending=True):\n",
        "    \"\"\"Get a list of publishers and the number of books they've published\"\"\"\n",
        "    if not isinstance(ascending, bool):\n",
        "        raise ValueError(f\"Sorting value invalid: {ascending}\")\n",
        "\n",
        "    direction = asc if ascending else desc\n",
        "\n",
        "    return (\n",
        "        session.query(\n",
        "            Publisher.name, func.count(Book.title).label(\"total_books\")\n",
        "        )\n",
        "        .join(Publisher.books)\n",
        "        .group_by(Publisher.name)\n",
        "        .order_by(direction(\"total_books\"))\n",
        "    )"
      ],
      "metadata": {
        "id": "xi6oU2Qdml_K"
      },
      "execution_count": 11,
      "outputs": []
    },
    {
      "cell_type": "code",
      "source": [
        "def get_authors_by_publishers(session, ascending=True):\n",
        "    \"\"\"Get a list of publishers and the number of authors they've published\"\"\"\n",
        "    if not isinstance(ascending, bool):\n",
        "        raise ValueError(f\"Sorting value invalid: {ascending}\")\n",
        "\n",
        "    direction = asc if ascending else desc\n",
        "\n",
        "    return (\n",
        "        session.query(\n",
        "            Publisher.name,\n",
        "            func.count(Author.first_name).label(\"total_authors\"),\n",
        "        )\n",
        "        .join(Publisher.authors)\n",
        "        .group_by(Publisher.name)\n",
        "        .order_by(direction(\"total_authors\"))\n",
        "    )"
      ],
      "metadata": {
        "id": "XSgeZvHJmtQT"
      },
      "execution_count": 12,
      "outputs": []
    },
    {
      "cell_type": "code",
      "source": [
        "def add_new_book(session, author_name, book_title, publisher_name):\n",
        "    \"\"\"Adds a new book to the system\"\"\"\n",
        "    # Get the author's first and last names\n",
        "    first_name, _, last_name = author_name.partition(\" \")\n",
        "\n",
        "    # Check if book exists\n",
        "    book = (\n",
        "        session.query(Book)\n",
        "        .join(Author)\n",
        "        .filter(Book.title == book_title)\n",
        "        .filter(\n",
        "            and_(\n",
        "                Author.first_name == first_name, Author.last_name == last_name\n",
        "            )\n",
        "        )\n",
        "        .filter(Book.publishers.any(Publisher.name == publisher_name))\n",
        "        .one_or_none()\n",
        "    )\n",
        "    # Does the book by the author and publisher already exist?\n",
        "    if book is not None:\n",
        "        return\n",
        "\n",
        "    # Get the book by the author\n",
        "    book = (\n",
        "        session.query(Book)\n",
        "        .join(Author)\n",
        "        .filter(Book.title == book_title)\n",
        "        .filter(\n",
        "            and_(\n",
        "                Author.first_name == first_name, Author.last_name == last_name\n",
        "            )\n",
        "        )\n",
        "        .one_or_none()\n",
        "    )\n",
        "    # Create the new book if needed\n",
        "    if book is None:\n",
        "        book = Book(title=book_title)\n",
        "\n",
        "    # Get the author\n",
        "    author = (\n",
        "        session.query(Author)\n",
        "        .filter(\n",
        "            and_(\n",
        "                Author.first_name == first_name, Author.last_name == last_name\n",
        "            )\n",
        "        )\n",
        "        .one_or_none()\n",
        "    )\n",
        "    # Do we need to create the author?\n",
        "    if author is None:\n",
        "        author = Author(first_name=first_name, last_name=last_name)\n",
        "        session.add(author)\n",
        "\n",
        "    # Get the publisher\n",
        "    publisher = (\n",
        "        session.query(Publisher)\n",
        "        .filter(Publisher.name == publisher_name)\n",
        "        .one_or_none()\n",
        "    )\n",
        "    # Do we need to create the publisher?\n",
        "    if publisher is None:\n",
        "        publisher = Publisher(name=publisher_name)\n",
        "        session.add(publisher)\n",
        "\n",
        "    # Initialize the book relationships\n",
        "    book.author = author\n",
        "    book.publishers.append(publisher)\n",
        "    session.add(book)\n",
        "\n",
        "    # Commit to the database\n",
        "    session.commit()"
      ],
      "metadata": {
        "id": "5N4C4DVenOx1"
      },
      "execution_count": 13,
      "outputs": []
    },
    {
      "cell_type": "code",
      "source": [
        "def get_authors(session):\n",
        "    \"\"\"Get a list of author objects sorted by last name\"\"\"\n",
        "    return session.query(Author).order_by(Author.last_name).all()"
      ],
      "metadata": {
        "id": "xO6zZjzHn5Pf"
      },
      "execution_count": 14,
      "outputs": []
    },
    {
      "cell_type": "code",
      "source": [
        "engine = create_engine(f\"sqlite:///books.db\")\n",
        "\n",
        "Session = sessionmaker()\n",
        "Session.configure(bind=engine)\n",
        "session = Session()\n",
        "\n",
        "books_by_publisher = get_books_by_publishers(session, ascending=False)\n",
        "for row in books_by_publisher:\n",
        "  print(f\"Publisher: {row.name}, total books: {row.total_books}\")\n",
        "print()\n",
        "\n",
        "authors_by_publisher = get_authors_by_publishers(session)\n",
        "for row in authors_by_publisher:\n",
        "  print(f\"Publisher: {row.name}, total authors: {row.total_authors}\")\n",
        "print()\n",
        "\n",
        "authors = get_authors(session)\n",
        "output_author_hierarchy(authors, \"authors1.txt\")\n",
        "\n",
        "add_new_book(\n",
        "  session,\n",
        "  author_name=\"Stephen King\",\n",
        "  book_title=\"The Stand\",\n",
        "  publisher_name=\"Random House\",\n",
        ")\n",
        "    # Output the updated hierarchical author data\n",
        "authors = get_authors(session)\n",
        "output_author_hierarchy(authors, \"authors2.txt\")"
      ],
      "metadata": {
        "colab": {
          "base_uri": "https://localhost:8080/"
        },
        "id": "hbCXHXbRmxym",
        "outputId": "03320329-65c5-4d3a-93c0-8e7e9358df00"
      },
      "execution_count": 15,
      "outputs": [
        {
          "output_type": "stream",
          "name": "stdout",
          "text": [
            "Publisher: Simon & Schuster, total books: 4\n",
            "Publisher: Random House, total books: 4\n",
            "Publisher: Penguin Random House, total books: 2\n",
            "Publisher: Berkley, total books: 2\n",
            "\n",
            "Publisher: Berkley, total authors: 2\n",
            "Publisher: Penguin Random House, total authors: 2\n",
            "Publisher: Random House, total authors: 4\n",
            "Publisher: Simon & Schuster, total authors: 4\n",
            "\n"
          ]
        }
      ]
    }
  ]
}