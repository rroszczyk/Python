{
  "nbformat": 4,
  "nbformat_minor": 0,
  "metadata": {
    "colab": {
      "provenance": [],
      "authorship_tag": "ABX9TyNIoxaCCVzZVQcQ8CITcgGM",
      "include_colab_link": true
    },
    "kernelspec": {
      "name": "python3",
      "display_name": "Python 3"
    },
    "language_info": {
      "name": "python"
    }
  },
  "cells": [
    {
      "cell_type": "markdown",
      "metadata": {
        "id": "view-in-github",
        "colab_type": "text"
      },
      "source": [
        "<a href=\"https://colab.research.google.com/github/rroszczyk/Python/blob/master/testy_bench.ipynb\" target=\"_parent\"><img src=\"https://colab.research.google.com/assets/colab-badge.svg\" alt=\"Open In Colab\"/></a>"
      ]
    },
    {
      "cell_type": "code",
      "source": [
        "!pip install pytest-benchmark"
      ],
      "metadata": {
        "colab": {
          "base_uri": "https://localhost:8080/"
        },
        "id": "RUPC_mE1icqg",
        "outputId": "ecef5734-893d-48b1-d26c-4ac935467bdb"
      },
      "execution_count": 6,
      "outputs": [
        {
          "output_type": "stream",
          "name": "stdout",
          "text": [
            "Requirement already satisfied: pytest-benchmark in /usr/local/lib/python3.10/dist-packages (4.0.0)\n",
            "Requirement already satisfied: pytest>=3.8 in /usr/local/lib/python3.10/dist-packages (from pytest-benchmark) (7.4.3)\n",
            "Requirement already satisfied: py-cpuinfo in /usr/local/lib/python3.10/dist-packages (from pytest-benchmark) (9.0.0)\n",
            "Requirement already satisfied: iniconfig in /usr/local/lib/python3.10/dist-packages (from pytest>=3.8->pytest-benchmark) (2.0.0)\n",
            "Requirement already satisfied: packaging in /usr/local/lib/python3.10/dist-packages (from pytest>=3.8->pytest-benchmark) (23.2)\n",
            "Requirement already satisfied: pluggy<2.0,>=0.12 in /usr/local/lib/python3.10/dist-packages (from pytest>=3.8->pytest-benchmark) (1.3.0)\n",
            "Requirement already satisfied: exceptiongroup>=1.0.0rc8 in /usr/local/lib/python3.10/dist-packages (from pytest>=3.8->pytest-benchmark) (1.2.0)\n",
            "Requirement already satisfied: tomli>=1.0.0 in /usr/local/lib/python3.10/dist-packages (from pytest>=3.8->pytest-benchmark) (2.0.1)\n"
          ]
        }
      ]
    },
    {
      "cell_type": "code",
      "execution_count": 7,
      "metadata": {
        "colab": {
          "base_uri": "https://localhost:8080/"
        },
        "id": "IWwo5MI7hXEb",
        "outputId": "5324cbcd-820a-43ff-ab17-c367a49be787"
      },
      "outputs": [
        {
          "output_type": "stream",
          "name": "stdout",
          "text": [
            "Writing test_funkcji.py\n"
          ]
        }
      ],
      "source": [
        "%%writefile test_funkcji.py\n",
        "import pytest\n",
        "import time\n",
        "\n",
        "def funcA():\n",
        "    print(\"Uruchamiamy funkcję A\")\n",
        "    time.sleep(0.05)\n",
        "    print(\"Konczymy funkcję A\")\n",
        "\n",
        "def funcB():\n",
        "    print(\"Uruchamiamy funkcję B\")\n",
        "    time.sleep(0.01)\n",
        "    print(\"Konczymy funkcję B\")\n",
        "\n",
        "def test_func_a(benchmark):\n",
        "    benchmark(funcA)\n",
        "\n",
        "def test_func_b(benchmark):\n",
        "    benchmark.pedantic(funcB, iterations=100, rounds=10)"
      ]
    },
    {
      "cell_type": "code",
      "source": [
        "!pytest test_funkcji.py"
      ],
      "metadata": {
        "colab": {
          "base_uri": "https://localhost:8080/"
        },
        "id": "Z0fgMnyqiWQ6",
        "outputId": "1a7adbd1-b82c-49fb-d7eb-88d38384775a"
      },
      "execution_count": 8,
      "outputs": [
        {
          "output_type": "stream",
          "name": "stdout",
          "text": [
            "\u001b[1m======================================= test session starts ========================================\u001b[0m\n",
            "platform linux -- Python 3.10.12, pytest-7.4.3, pluggy-1.3.0\n",
            "benchmark: 4.0.0 (defaults: timer=time.perf_counter disable_gc=False min_rounds=5 min_time=0.000005 max_time=1.0 calibration_precision=10 warmup=False warmup_iterations=100000)\n",
            "rootdir: /content\n",
            "plugins: benchmark-4.0.0, anyio-3.7.1\n",
            "\u001b[1mcollecting ... \u001b[0m\u001b[1m\rcollected 2 items                                                                                  \u001b[0m\n",
            "\n",
            "test_funkcji.py \u001b[32m.\u001b[0m\u001b[32m.\u001b[0m\u001b[32m                                                                           [100%]\u001b[0m\n",
            "\n",
            "\n",
            "\u001b[33m--------------------------------------------------------------------------------- benchmark: 2 tests --------------------------------------------------------------------------------\u001b[0m\n",
            "Name (time in ms)         Min                Max               Mean            StdDev             Median               IQR            Outliers      OPS            Rounds  Iterations\n",
            "\u001b[33m-------------------------------------------------------------------------------------------------------------------------------------------------------------------------------------\u001b[0m\n",
            "test_func_b         \u001b[32m\u001b[1m  10.1873 (1.0)    \u001b[0m\u001b[32m\u001b[1m  10.3695 (1.0)    \u001b[0m\u001b[32m\u001b[1m  10.2434 (1.0)    \u001b[0m\u001b[31m\u001b[1m  0.0601 (1.94)   \u001b[0m\u001b[32m\u001b[1m  10.2259 (1.0)    \u001b[0m\u001b[31m\u001b[1m  0.0672 (1.70)   \u001b[0m       2;1\u001b[32m\u001b[1m  97.6241 (1.0)    \u001b[0m      10         100\n",
            "test_func_a         \u001b[31m\u001b[1m  50.1460 (4.92)   \u001b[0m\u001b[31m\u001b[1m  50.2731 (4.85)   \u001b[0m\u001b[31m\u001b[1m  50.2096 (4.90)   \u001b[0m\u001b[32m\u001b[1m  0.0310 (1.0)    \u001b[0m\u001b[31m\u001b[1m  50.2163 (4.91)   \u001b[0m\u001b[32m\u001b[1m  0.0395 (1.0)    \u001b[0m       5;0\u001b[31m\u001b[1m  19.9165 (0.20)   \u001b[0m      20           1\n",
            "\u001b[33m-------------------------------------------------------------------------------------------------------------------------------------------------------------------------------------\u001b[0m\n",
            "\n",
            "Legend:\n",
            "  Outliers: 1 Standard Deviation from Mean; 1.5 IQR (InterQuartile Range) from 1st Quartile and 3rd Quartile.\n",
            "  OPS: Operations Per Second, computed as 1 / Mean\n",
            "\u001b[32m======================================== \u001b[32m\u001b[1m2 passed\u001b[0m\u001b[32m in 12.37s\u001b[0m\u001b[32m ========================================\u001b[0m\n"
          ]
        }
      ]
    }
  ]
}